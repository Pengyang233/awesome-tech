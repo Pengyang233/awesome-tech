{
 "metadata": {
  "language_info": {
   "codemirror_mode": {
    "name": "ipython",
    "version": 3
   },
   "file_extension": ".py",
   "mimetype": "text/x-python",
   "name": "python",
   "nbconvert_exporter": "python",
   "pygments_lexer": "ipython3",
   "version": "3.6.2-final"
  },
  "orig_nbformat": 2,
  "kernelspec": {
   "name": "python3",
   "display_name": "Python 3",
   "language": "python"
  }
 },
 "nbformat": 4,
 "nbformat_minor": 2,
 "cells": [
  {
   "source": [
    "# Chapter 1 - 预备知识"
   ],
   "cell_type": "markdown",
   "metadata": {}
  },
  {
   "cell_type": "code",
   "execution_count": 5,
   "metadata": {},
   "outputs": [],
   "source": [
    "import os\n",
    "import pathlib\n",
    "import numpy as np\n",
    "import pandas as pd"
   ]
  },
  {
   "source": [
    "## 1 列表推导式与条件赋值"
   ],
   "cell_type": "markdown",
   "metadata": {}
  },
  {
   "cell_type": "code",
   "execution_count": 6,
   "metadata": {},
   "outputs": [
    {
     "output_type": "stream",
     "name": "stdout",
     "text": [
      "[0, 2, 4, 6, 8]\n"
     ]
    }
   ],
   "source": [
    "L1 = []\r\n",
    "\r\n",
    "def my_func(x):\r\n",
    "    return 2*x\r\n",
    "\r\n",
    "for i in range(5):\r\n",
    "    L1.append(my_func(i))\r\n",
    "\r\n",
    "print(L1)"
   ]
  },
  {
   "cell_type": "code",
   "execution_count": 7,
   "metadata": {},
   "outputs": [
    {
     "output_type": "stream",
     "name": "stdout",
     "text": [
      "[0, 2, 4, 6, 8]\n"
     ]
    }
   ],
   "source": [
    "L2 = [ my_func(i) for i in range (5)]\n",
    "print(L2)"
   ]
  },
  {
   "cell_type": "code",
   "execution_count": 8,
   "metadata": {},
   "outputs": [
    {
     "output_type": "stream",
     "name": "stdout",
     "text": [
      "['a_1', 'a_2', 'b_1', 'b_2']\n"
     ]
    }
   ],
   "source": [
    "L3 = [m+'_'+n for m in ['a', 'b'] for n in ['1','2']]\n",
    "print(L3)"
   ]
  },
  {
   "cell_type": "code",
   "execution_count": 10,
   "metadata": {},
   "outputs": [
    {
     "output_type": "stream",
     "name": "stdout",
     "text": [
      "cat\n"
     ]
    }
   ],
   "source": [
    "value = 'cat' if 2>1 else 'dog'\n",
    "print(value)"
   ]
  },
  {
   "cell_type": "code",
   "execution_count": 11,
   "metadata": {},
   "outputs": [
    {
     "output_type": "stream",
     "name": "stdout",
     "text": [
      "dog\n"
     ]
    }
   ],
   "source": [
    "value = 'cat' if 2<1 else 'dog'\n",
    "print(value)"
   ]
  },
  {
   "source": [
    "## 2 匿名函数与map方法"
   ],
   "cell_type": "markdown",
   "metadata": {}
  },
  {
   "cell_type": "code",
   "execution_count": 12,
   "metadata": {},
   "outputs": [
    {
     "output_type": "stream",
     "name": "stdout",
     "text": [
      "6\n"
     ]
    }
   ],
   "source": [
    "my_func = lambda x: 2*x\n",
    "print(my_func(3))"
   ]
  },
  {
   "cell_type": "code",
   "execution_count": 13,
   "metadata": {},
   "outputs": [
    {
     "output_type": "stream",
     "name": "stdout",
     "text": [
      "5\n"
     ]
    }
   ],
   "source": [
    "another_func = lambda a, b: a +2*b\n",
    "print(another_func(1,2))"
   ]
  },
  {
   "cell_type": "code",
   "execution_count": 14,
   "metadata": {},
   "outputs": [
    {
     "output_type": "stream",
     "name": "stdout",
     "text": [
      "[0, 2, 4, 6, 8]\n"
     ]
    }
   ],
   "source": [
    "L4 = [(lambda x:2*x)(i) for i in range(5)]\n",
    "print(L4)"
   ]
  },
  {
   "cell_type": "code",
   "execution_count": 17,
   "metadata": {},
   "outputs": [
    {
     "output_type": "stream",
     "name": "stdout",
     "text": [
      "<map object at 0x0000017401090198>\n[0, 2, 4, 6, 8]\n[0, 2, 4]\n"
     ]
    }
   ],
   "source": [
    "print(map(lambda x:2*x, range(5)))\n",
    "print(list(map(lambda x:2*x, range(5))))\n",
    "print(list(map(lambda x:2*x, [0,1,2])))"
   ]
  },
  {
   "cell_type": "code",
   "execution_count": 22,
   "metadata": {},
   "outputs": [
    {
     "output_type": "stream",
     "name": "stdout",
     "text": [
      "['0_a', '1_b', '2_c', '3_d', '4_e']\n"
     ]
    }
   ],
   "source": [
    "print(list(map(lambda x,y:str(x)+'_'+y, range(5), list('abcde'))))  #注意这里是一一对应的"
   ]
  },
  {
   "source": [
    "## 3 zip对象和enumerate方法"
   ],
   "cell_type": "markdown",
   "metadata": {}
  },
  {
   "cell_type": "code",
   "execution_count": 24,
   "metadata": {},
   "outputs": [
    {
     "output_type": "stream",
     "name": "stdout",
     "text": [
      "[0, 1, 2]\n['a', 'b', 'c']\n['q', 'w', 'e']\n"
     ]
    }
   ],
   "source": [
    "L1,L2,L3 = list(range(3)),list('abc'), list('qwe')\n",
    "print(L1)\n",
    "print(L2)\n",
    "print(L3)"
   ]
  },
  {
   "cell_type": "code",
   "execution_count": 43,
   "metadata": {},
   "outputs": [
    {
     "output_type": "stream",
     "name": "stdout",
     "text": [
      "[(0, 'a', 'q'), (1, 'b', 'w'), (2, 'c', 'e')]\n[(0, 1, 2), ('a', 'b', 'c'), ('q', 'w', 'e')]\n3\n<class 'list'>\n<class 'tuple'>\n[('q', 'a', 0), ('w', 'b', 1), ('e', 'c', 2)]\n"
     ]
    }
   ],
   "source": [
    "L_zip = list(zip(L1,L2,L3))\n",
    "L_unzip = list(zip(*L_zip))  #使用*对zip的东西解压缩\n",
    "print(L_zip)\n",
    "print(L_unzip)\n",
    "print(len(L_zip))\n",
    "print(type(L_zip))\n",
    "print(type(L_zip[0]))\n",
    "\n",
    "L_zip1 = list(zip(L3,L2,L1))\n",
    "print(L_zip1)\n",
    "\n"
   ]
  },
  {
   "source": [
    "常在 `for` 中用到 `zip`函数(一一对应)"
   ],
   "cell_type": "markdown",
   "metadata": {}
  },
  {
   "cell_type": "code",
   "execution_count": 39,
   "metadata": {},
   "outputs": [
    {
     "output_type": "stream",
     "name": "stdout",
     "text": [
      "[(0, 'a', 'q'), (1, 'b', 'w'), (2, 'c', 'e')]\n0 a q\n1 b w\n2 c e\n"
     ]
    }
   ],
   "source": [
    "print(list(zip(L1,L2,L3)))\n",
    "for a,b,c in zip(L1,L2,L3):\n",
    "    print(a,b,c)"
   ]
  },
  {
   "source": [
    "可以利用`zip`来对两个**列表**建立字典映射"
   ],
   "cell_type": "markdown",
   "metadata": {}
  },
  {
   "cell_type": "code",
   "execution_count": 42,
   "metadata": {},
   "outputs": [
    {
     "output_type": "stream",
     "name": "stdout",
     "text": [
      "{'a': 0, 'b': 1, 'c': 2}\n"
     ]
    }
   ],
   "source": [
    "dict1 = dict(zip(L2,L1))\n",
    "print(dict1)\n",
    "# 第一个为key第二个为value\n",
    "# zip 三个东西就报错"
   ]
  },
  {
   "cell_type": "code",
   "execution_count": null,
   "metadata": {},
   "outputs": [],
   "source": []
  }
 ]
}